{
 "cells": [
  {
   "cell_type": "code",
   "execution_count": 1,
   "metadata": {},
   "outputs": [],
   "source": [
    "import midi\n",
    "import numpy as np\n",
    "import matplotlib.pyplot as plt\n",
    "import re\n",
    "import math\n",
    "\n",
    "\n",
    "%matplotlib inline "
   ]
  },
  {
   "cell_type": "code",
   "execution_count": 2,
   "metadata": {},
   "outputs": [
    {
     "name": "stdout",
     "output_type": "stream",
     "text": [
      "midi.Pattern(format=1, resolution=960, tracks=\\\n",
      "960\n"
     ]
    }
   ],
   "source": [
    "pattern = midi.read_midifile(\"amazing_grace.mid\")\n",
    "data_string = str(pattern)\n",
    "A = data_string.splitlines() \n",
    "\n",
    "num_arr = []\n",
    "\n",
    "for N in range(len(A)):\n",
    "    #print(A[N].find('NoteOnEvent'))\n",
    "    if(A[N].find('resolution') != -1):\n",
    "        print(A[N])\n",
    "        resolution = [int(i) for i in re.findall(r'\\d+', A[N])][1]\n",
    "        print(resolution)\n",
    "    \n",
    "    if(A[N].find('NoteOnEvent') != -1 or A[N].find('NoteOffEvent') != -1):\n",
    "        #print(A[N])\n",
    "        #print([int(i) for i in re.findall(r'\\d+', A[N])])\n",
    "        num_arr.append([int(i) for i in re.findall(r'\\d+', A[N])])\n",
    "np_arr = np.array(num_arr)\n"
   ]
  },
  {
   "cell_type": "code",
   "execution_count": 3,
   "metadata": {},
   "outputs": [
    {
     "name": "stdout",
     "output_type": "stream",
     "text": [
      "57: [  0.   8.   8.  24.  56.  72.  80.  96.  96. 104. 104. 120. 255. 271.\n",
      " 279. 295. 327. 343.]\n",
      "58: [ 48.  56.  72.  80. 232. 244. 247. 255. 319. 327.]\n",
      "60: [  0.   8.  24.  32.  32.  48.  80.  96.  96. 104. 120. 128. 128. 144.\n",
      " 144. 152. 152. 176. 176. 184. 184. 199. 200. 208. 208. 224. 224. 232.\n",
      " 244. 247. 255. 271. 271. 279. 295. 303. 303. 319.]\n",
      "62: [ 72.  80. 232. 244. 251. 255.]\n",
      "65: [  8.  24.  28.  32.  56.  72. 104. 120. 124. 128. 208. 224. 244. 247.\n",
      " 247. 251. 279. 295. 299. 303. 327. 343.]\n",
      "67: [ 48.  56. 144. 152. 319. 327.]\n",
      "69: [ 24.  28.  32.  48. 120. 124. 128. 144. 176. 184. 196. 200. 204. 208.\n",
      " 295. 299. 303. 319.]\n",
      "72: [152. 176. 184. 196. 200. 204.]\n",
      "343.0\n",
      "41: [  0.   8.   8.  24.  24.  28.  80.  96.  96. 104. 104. 120. 120. 124.\n",
      " 176. 184. 256. 272. 328. 344.]\n",
      "45: [ 28.  32. 124. 128. 152. 176. 208. 224. 224. 232. 244. 248. 272. 280.]\n",
      "46: [ 72.  80. 144. 152. 232. 244. 248. 256.]\n",
      "48: [  8.  24.  32.  48.  48.  56. 104. 120. 128. 144. 296. 304. 304. 320.\n",
      " 320. 328.]\n",
      "50: [ 56.  72. 248. 252. 280. 296.]\n",
      "52: [ 48.  56. 144. 152. 320. 328.]\n",
      "53: [  0.   8.  24.  32.  32.  48.  56.  72.  72.  80.  80.  96.  96. 104.\n",
      " 120. 128. 128. 144. 152. 176. 176. 184. 184. 196. 199. 200. 200. 204.\n",
      " 208. 208. 208. 224. 224. 232. 232. 247. 252. 256. 256. 272. 272. 280.\n",
      " 280. 296. 296. 300. 304. 320. 328. 344.]\n",
      "57: [184. 196. 200. 204. 300. 304.]\n"
     ]
    }
   ],
   "source": [
    "channel = np_arr[:,1]\n",
    "unique_channels = set(channel) \n",
    "\n",
    "\n",
    "\n",
    "\n",
    "flag_grid_init = False\n",
    "\n",
    "\n",
    "\n",
    "for unique_channel in unique_channels:\n",
    "    ch0 = np.where(channel==unique_channel) # channel 0만 보기\n",
    "\n",
    "    tick = np_arr[ch0,0][0]\n",
    "    note = np_arr[ch0,2][0]\n",
    "    vel = np_arr[ch0,3][0]\n",
    "    \n",
    "    #vel  note  tick\n",
    "    start_tick_arr = []\n",
    "    note_arr = []\n",
    "\n",
    "    current_tick = 0\n",
    "    tick_arr = []\n",
    "    for N in range(len(vel)):\n",
    "\n",
    "        current_tick += tick[N]\n",
    "        tick_arr.append(current_tick)\n",
    "        if(vel[N]!=0):\n",
    "            start_tick_arr.append(current_tick)\n",
    "            note_arr.append(note[N])\n",
    "\n",
    "    start_tick_arr = np.array(start_tick_arr)\n",
    "    note_arr = np.array(note_arr) \n",
    "    \n",
    "    #vel  note  tick \n",
    "    start_tick_arr = []\n",
    "    stop_tick_arr = []\n",
    "    start_note_arr = []\n",
    "    stop_note_arr = []\n",
    "\n",
    "    tick_arr = []\n",
    "\n",
    "    current_tick = 0\n",
    "\n",
    "    for N in range(len(vel)):\n",
    "\n",
    "        current_tick += tick[N]\n",
    "\n",
    "        tick_arr.append(current_tick)\n",
    "\n",
    "        if(vel[N]!=0):\n",
    "            start_tick_arr.append(current_tick)\n",
    "            start_note_arr.append(note[N])\n",
    "        else:\n",
    "            stop_tick_arr.append(current_tick)\n",
    "            stop_note_arr.append(note[N])\n",
    "\n",
    "\n",
    "\n",
    "    start_tick_arr = np.array(start_tick_arr)/resolution\n",
    "    start_note_arr = np.array(start_note_arr)\n",
    "    stop_tick_arr = np.array(stop_tick_arr)/resolution\n",
    "    stop_note_arr = np.array(stop_note_arr)\n",
    "    tick_arr = np.array(tick_arr)/resolution\n",
    "\n",
    "    \n",
    "    \n",
    "    \n",
    "    \n",
    "    \n",
    "    note_duration = {}\n",
    "    for note_num in range(128):\n",
    "        ndx = np.where(note == note_num)\n",
    "        if len(ndx[0]) > 0:\n",
    "            if len(ndx[0])%2 != 0:\n",
    "                print(\"ERROR!!!!!!!!!!!!!!!!!\")\n",
    "            note_duration[note_num] = np.round(tick_arr[ndx] * 8)# 8등분 최소단위!\n",
    "            print('{}: {}'.format(note_num, note_duration[note_num]))\n",
    "\n",
    "    if not flag_grid_init:\n",
    "        max_tick = 0\n",
    "        for key in note_duration.keys():\n",
    "            if max_tick < max(note_duration[key]):\n",
    "                max_tick = max(note_duration[key])\n",
    "        print(max_tick)\n",
    "        grid_note = np.zeros((128,int(max_tick)))\n",
    "\n",
    "        for key in note_duration.keys():\n",
    "            ticks = note_duration[key]\n",
    "            for idx in range(0, ticks.shape[0]-1, 2):\n",
    "                grid_note[int(key), int(ticks[idx]):int(ticks[idx+1])] = 1\n",
    "                grid_note[int(key), int(ticks[idx])] = 2 \n",
    "        \n",
    "        flag_grid_init = True\n",
    "    \n",
    "\n",
    "    for key in note_duration.keys():\n",
    "        ticks = note_duration[key]\n",
    "        for idx in range(0, ticks.shape[0]-1, 2):\n",
    "            grid_note[int(key), int(ticks[idx]):int(ticks[idx+1])] = 1\n",
    "            grid_note[int(key), int(ticks[idx])] = 2\n",
    "\n",
    "\n",
    "    "
   ]
  },
  {
   "cell_type": "code",
   "execution_count": 5,
   "metadata": {},
   "outputs": [
    {
     "data": {
      "text/plain": [
       "(30, 80)"
      ]
     },
     "execution_count": 5,
     "metadata": {},
     "output_type": "execute_result"
    },
    {
     "data": {
      "image/png": "[encoded data removed]",
      "text/plain": [
       "<Figure size 1296x432 with 1 Axes>"
      ]
     },
     "metadata": {
      "needs_background": "light"
     },
     "output_type": "display_data"
    }
   ],
   "source": [
    "plt.figure(figsize=(18,6))\n",
    "plt.imshow(grid_note)\n",
    "plt.ylim([30,80])"
   ]
  },
  {
   "cell_type": "code",
   "execution_count": null,
   "metadata": {},
   "outputs": [],
   "source": []
  },
  {
   "cell_type": "code",
   "execution_count": null,
   "metadata": {},
   "outputs": [],
   "source": []
  },
  {
   "cell_type": "code",
   "execution_count": null,
   "metadata": {},
   "outputs": [],
   "source": []
  }
 ],
 "metadata": {
  "kernelspec": {
   "display_name": "Python 3",
   "language": "python",
   "name": "python3"
  },
  "language_info": {
   "codemirror_mode": {
    "name": "ipython",
    "version": 3
   },
   "file_extension": ".py",
   "mimetype": "text/x-python",
   "name": "python",
   "nbconvert_exporter": "python",
   "pygments_lexer": "ipython3",
   "version": "3.7.3"
  }
 },
 "nbformat": 4,
 "nbformat_minor": 2
}
